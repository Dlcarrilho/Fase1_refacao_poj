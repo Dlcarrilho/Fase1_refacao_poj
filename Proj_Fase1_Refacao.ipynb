{
  "cells": [
    {
      "cell_type": "markdown",
      "metadata": {
        "id": "view-in-github",
        "colab_type": "text"
      },
      "source": [
        "<a href=\"https://colab.research.google.com/github/Dlcarrilho/Fase1_refacao_poj/blob/main/Proj_Fase1_Refacao.ipynb\" target=\"_parent\"><img src=\"https://colab.research.google.com/assets/colab-badge.svg\" alt=\"Open In Colab\"/></a>"
      ]
    },
    {
      "cell_type": "code",
      "execution_count": null,
      "id": "952b63cb-9fe0-46be-84f1-8ef0cbc4f19d",
      "metadata": {
        "tags": [],
        "id": "952b63cb-9fe0-46be-84f1-8ef0cbc4f19d"
      },
      "outputs": [],
      "source": [
        "# Importando bibliotecas\n",
        "import random\n",
        "import csv"
      ]
    },
    {
      "cell_type": "code",
      "execution_count": null,
      "id": "f479229a-46a4-429f-b259-138d1551ae6a",
      "metadata": {
        "tags": [],
        "colab": {
          "base_uri": "https://localhost:8080/"
        },
        "id": "f479229a-46a4-429f-b259-138d1551ae6a",
        "outputId": "f636d899-7b8b-412c-9d4f-d1f536e18258"
      },
      "outputs": [
        {
          "output_type": "stream",
          "name": "stdout",
          "text": [
            "Trying:\n",
            "    read_arqv = Lercsv('amostragem.csv')\n",
            "Expecting nothing\n",
            "ok\n",
            "Trying:\n",
            "    arq_aberto = read_arqv.abrirArq()\n",
            "Expecting nothing\n",
            "ok\n",
            "3 items had no tests:\n",
            "    __main__.Lercsv\n",
            "    __main__.Lercsv.__init__\n",
            "    __main__.Lercsv.abrirArq\n",
            "1 items passed all tests:\n",
            "   2 tests in __main__\n",
            "2 tests in 4 items.\n",
            "2 passed and 0 failed.\n",
            "Test passed.\n"
          ]
        }
      ],
      "source": [
        "# ler arquivo csv\n",
        "\n",
        "'''\n",
        "Testando a classe de leitura de arquivo csv\n",
        "*******************************************\n",
        "\n",
        ">>> read_arqv = Lercsv('amostragem.csv')\n",
        ">>> arq_aberto = read_arqv.abrirArq()\n",
        "\n",
        "\n",
        "'''\n",
        "class Lercsv():\n",
        "\n",
        "  def __init__(self, arquivo):\n",
        "\n",
        "    self.arquivo = arquivo\n",
        "\n",
        "  def abrirArq(self):\n",
        "    with open(self.arquivo, 'r', encoding= \"utf8\") as arquivo_csv:\n",
        "      leitor = csv.reader(arquivo_csv, delimiter=',')\n",
        "      cabecario = False # <==\n",
        "      dados = []\n",
        "      for coluna in leitor:\n",
        "        if (cabecario):\n",
        "          cabecario = False\n",
        "        else:\n",
        "          dados.append(coluna)\n",
        "    return dados\n",
        "\n",
        "if __name__ == \"__main__\":\n",
        "    import doctest\n",
        "    doctest.testmod(verbose = True)"
      ]
    },
    {
      "cell_type": "code",
      "execution_count": null,
      "id": "6851cb8d-1a5d-4889-8568-097a636ac72d",
      "metadata": {
        "tags": [],
        "id": "6851cb8d-1a5d-4889-8568-097a636ac72d"
      },
      "outputs": [],
      "source": [
        "# Gravar arquivo em formato csv\n",
        "\n",
        "class Gravar():\n",
        "\n",
        "  def __init__(self, arq):\n",
        "    self.arq = arq\n",
        "\n",
        "  def gravar(self):\n",
        "    a = open('amostragem.csv', 'w', newline='', encoding= \"utf8\")\n",
        "    w = csv.writer(a)\n",
        "    for i in self.arq:\n",
        "      w.writerow(i)\n"
      ]
    },
    {
      "cell_type": "code",
      "execution_count": null,
      "id": "f8c1bbb8-5c5f-4da4-8004-a144bc673174",
      "metadata": {
        "tags": [],
        "id": "f8c1bbb8-5c5f-4da4-8004-a144bc673174",
        "outputId": "2d39f583-3116-4ebf-dfac-244c8220eb47"
      },
      "outputs": [
        {
          "name": "stdout",
          "output_type": "stream",
          "text": [
            "Trying:\n",
            "    read_arqv = Lercsv('lista_games.csv')\n",
            "Expecting nothing\n",
            "ok\n",
            "Trying:\n",
            "    arq_aberto = read_arqv.abrirArq()\n",
            "Expecting nothing\n",
            "ok\n",
            "Trying:\n",
            "    esp_amostral = Amostra(arq_aberto)\n",
            "Expecting nothing\n",
            "ok\n",
            "Trying:\n",
            "    gravar_arq = esp_amostral.gerar_amostra()\n",
            "Expecting nothing\n",
            "ok\n",
            "Trying:\n",
            "    gravando_arq = Gravar(gravar_arq)\n",
            "Expecting nothing\n",
            "ok\n",
            "Trying:\n",
            "    gravando_arq.gravar()\n",
            "Expecting nothing\n",
            "ok\n",
            "16 items had no tests:\n",
            "    __main__.Amostra\n",
            "    __main__.Amostra.__init__\n",
            "    __main__.Amostra.gerar_amostra\n",
            "    __main__.Estatistica_lancamento\n",
            "    __main__.Estatistica_lancamento.__init__\n",
            "    __main__.Estatistica_lancamento.qtdLan\n",
            "    __main__.Estatistica_venda\n",
            "    __main__.Estatistica_venda.__init__\n",
            "    __main__.Estatistica_venda.perfilVendas\n",
            "    __main__.Gravar\n",
            "    __main__.Gravar.__init__\n",
            "    __main__.Gravar.gravar\n",
            "    __main__.Lercsv\n",
            "    __main__.Lercsv.__init__\n",
            "    __main__.Lercsv.abrirArq\n",
            "    __main__.game_maiorValor\n",
            "1 items passed all tests:\n",
            "   6 tests in __main__\n",
            "6 tests in 17 items.\n",
            "6 passed and 0 failed.\n",
            "Test passed.\n"
          ]
        }
      ],
      "source": [
        "# Gerador de Amostragem\n",
        "\n",
        "'''\n",
        "Testando a classe de geração de amostra com 20 observações e gerando o aquivo no formato csv\n",
        "********************************************************************************************\n",
        "\n",
        ">>> read_arqv = Lercsv('lista_games.csv')\n",
        ">>> arq_aberto = read_arqv.abrirArq()\n",
        ">>> esp_amostral = Amostra(arq_aberto)\n",
        ">>> gravar_arq = esp_amostral.gerar_amostra()\n",
        ">>> gravando_arq = Gravar(gravar_arq)\n",
        ">>> gravando_arq.gravar()\n",
        "\n",
        "'''\n",
        "class Amostra():\n",
        "\n",
        "  def __init__(self, amostra):\n",
        "    self.amostra = amostra\n",
        "\n",
        "  def gerar_amostra(self):\n",
        "    amostragem = []\n",
        "    for a in range(0, 21):\n",
        "      y = random.choice(self.amostra)\n",
        "      if y not in amostragem:  # garantir que ñ escolha o mesmo elemento\n",
        "        amostragem.append(y)\n",
        "\n",
        "    return amostragem\n",
        "\n",
        "if __name__ == \"__main__\":\n",
        "    import doctest\n",
        "    doctest.testmod(verbose = True)"
      ]
    },
    {
      "cell_type": "code",
      "execution_count": 48,
      "id": "effb0cb0-58fe-4c6e-8538-99a7f75e00a8",
      "metadata": {
        "tags": [],
        "colab": {
          "base_uri": "https://localhost:8080/"
        },
        "id": "effb0cb0-58fe-4c6e-8538-99a7f75e00a8",
        "outputId": "7fd0f53f-d16f-4fa0-c2e1-81c6f8fd9ede"
      },
      "outputs": [
        {
          "output_type": "stream",
          "name": "stdout",
          "text": [
            "Trying:\n",
            "    amostragem = Lercsv('amostragem.csv')\n",
            "Expecting nothing\n",
            "ok\n",
            "Trying:\n",
            "    amostra = amostragem.abrirArq()\n",
            "Expecting nothing\n",
            "ok\n",
            "Trying:\n",
            "    estatistica_venda = Estatistica_venda(amostra)\n",
            "Expecting nothing\n",
            "ok\n",
            "Trying:\n",
            "    estatistica_venda.perfilVendas()\n",
            "Expecting:\n",
            "    gratuito: 20.0% pagos: 80.0%\n",
            "ok\n",
            "9 items had no tests:\n",
            "    __main__.Estatistica_lancamento\n",
            "    __main__.Estatistica_lancamento.__init__\n",
            "    __main__.Estatistica_lancamento.qtdLan\n",
            "    __main__.Estatistica_venda\n",
            "    __main__.Estatistica_venda.__init__\n",
            "    __main__.Estatistica_venda.perfilVendas\n",
            "    __main__.Lercsv\n",
            "    __main__.Lercsv.__init__\n",
            "    __main__.Lercsv.abrirArq\n",
            "1 items passed all tests:\n",
            "   4 tests in __main__\n",
            "4 tests in 10 items.\n",
            "4 passed and 0 failed.\n",
            "Test passed.\n"
          ]
        }
      ],
      "source": [
        "# Calcular a porcentagem de jogos gratuitos e pagos\n",
        "\n",
        "'''\n",
        "Testando o cálculo da porcentagem dos jogos gratuitos e pagos\n",
        "**************************************************************\n",
        "\n",
        ">>> amostragem = Lercsv('amostragem.csv')\n",
        ">>> amostra = amostragem.abrirArq()\n",
        ">>> estatistica_venda = Estatistica_venda(amostra)\n",
        ">>> estatistica_venda.perfilVendas()\n",
        "gratuito: 20.0% pagos: 80.0%\n",
        "'''\n",
        "\n",
        "class Estatistica_venda():\n",
        "\n",
        "  def __init__(self, lista):\n",
        "    self.lista = lista\n",
        "\n",
        "  def perfilVendas(self):\n",
        "\n",
        "    #print('*** ESTATISTICA - VENDAS/JOGOS ***')\n",
        "\n",
        "    global valor_maior_zero\n",
        "\n",
        "    valor_maior_zero = []\n",
        "    valor_menor_igual_zero = []\n",
        "    for p in range(len(self.lista)):\n",
        "\n",
        "      if float(self.lista[p][6]) > 0:\n",
        "        valor_maior_zero.append(float(self.lista[p][6]))\n",
        "      else:\n",
        "        valor_menor_igual_zero.append(float(self.lista[p][6]))\n",
        "\n",
        "    tam_amostra = len(valor_maior_zero) + len(valor_menor_igual_zero)\n",
        "    per_gratuitos = round(float(len(valor_menor_igual_zero) / tam_amostra), 2)\n",
        "    per_pagos = round(1 - float(len(valor_menor_igual_zero) / tam_amostra), 2)\n",
        "\n",
        "    return print(f\"gratuito: {per_gratuitos*100}% pagos: {per_pagos*100}%\")\n",
        "\n",
        "if __name__ == \"__main__\":\n",
        "    import doctest\n",
        "    doctest.testmod(verbose = True)"
      ]
    },
    {
      "cell_type": "code",
      "execution_count": 31,
      "id": "72f9c17c-8d52-439e-afb6-bff99b019f54",
      "metadata": {
        "tags": [],
        "id": "72f9c17c-8d52-439e-afb6-bff99b019f54",
        "colab": {
          "base_uri": "https://localhost:8080/"
        },
        "outputId": "a305e512-a6d7-4013-a836-3efd745823ae"
      },
      "outputs": [
        {
          "output_type": "stream",
          "name": "stdout",
          "text": [
            "Trying:\n",
            "    amostragem = Lercsv('amostragem.csv')\n",
            "Expecting nothing\n",
            "ok\n",
            "Trying:\n",
            "    amostraA = amostragem.abrirArq()\n",
            "Expecting nothing\n",
            "ok\n",
            "Trying:\n",
            "    Estatistica_lancamentoA = Estatistica_lancamento(amostraA)\n",
            "Expecting nothing\n",
            "ok\n",
            "Trying:\n",
            "    Estatistica_lancamentoA.qtdLan()\n",
            "Expecting:\n",
            "    Exitem anos com a mesma quantidade de lancamentos(ano, qtdes)\n",
            "    [(2012, 1), (2013, 1), (2015, 1), (2016, 1), (2017, 1), (2018, 1), (2019, 1), (2020, 1), (2021, 5), (2022, 5)]\n",
            "    O ano com o(s) maior(es) lançamento(s):\n",
            "    2022, com 5 observações\n",
            "    2021, com 5 observações\n",
            "ok\n",
            "9 items had no tests:\n",
            "    __main__.Estatistica_lancamento\n",
            "    __main__.Estatistica_lancamento.__init__\n",
            "    __main__.Estatistica_lancamento.qtdLan\n",
            "    __main__.Estatistica_venda\n",
            "    __main__.Estatistica_venda.__init__\n",
            "    __main__.Estatistica_venda.perfilVendas\n",
            "    __main__.Lercsv\n",
            "    __main__.Lercsv.__init__\n",
            "    __main__.Lercsv.abrirArq\n",
            "1 items passed all tests:\n",
            "   4 tests in __main__\n",
            "4 tests in 10 items.\n",
            "4 passed and 0 failed.\n",
            "Test passed.\n"
          ]
        }
      ],
      "source": [
        "# Calcular quantidade de lançamento por ano\n",
        "''''\n",
        ">>> amostragem = Lercsv('amostragem.csv')\n",
        ">>> amostraA = amostragem.abrirArq()\n",
        ">>> Estatistica_lancamentoA = Estatistica_lancamento(amostraA)\n",
        ">>> Estatistica_lancamentoA.qtdLan()\n",
        "Exitem anos com a mesma quantidade de lancamentos(ano, qtdes)\n",
        "[(2012, 1), (2013, 1), (2015, 1), (2016, 1), (2017, 1), (2018, 1), (2019, 1), (2020, 1), (2021, 5), (2022, 5)]\n",
        "O ano com o(s) maior(es) lançamento(s):\n",
        "2022, com 5 observações\n",
        "2021, com 5 observações\n",
        "\n",
        "'''\n",
        "class Estatistica_lancamento:\n",
        "\n",
        "  def __init__(self, lerArq):\n",
        "\n",
        "    self.lerArq = lerArq\n",
        "\n",
        "  def qtdLan(self):\n",
        "    ##print('*** ESTATISTICA - LANÇAMENTOS JOGOS/ANO ***')\n",
        "    #preparando a base para análise\n",
        "    lista = []\n",
        "    for index, ano in enumerate(self.lerArq):\n",
        "      lista.append(int(self.lerArq[index][2].split()[2]))\n",
        "    lista = lista\n",
        "    key_lista = []\n",
        "    for index, ano in enumerate(lista):\n",
        "      if lista[index] not in key_lista:\n",
        "        key_lista.append(lista[index])\n",
        "    #print(\"key lista\", key_lista)\n",
        "\n",
        "    contagem = []\n",
        "    for ano in key_lista:\n",
        "      contagem.append(lista.count(ano))\n",
        "    #print('contagem', contagem)\n",
        "    dic_contagem = dict(zip(key_lista,\n",
        "                            contagem))  # criar dicionário (ano: qtdes)\n",
        "    #print(dic_contagem)\n",
        "    #buscando o os valores repetidos (empate)\n",
        "    emp = {}\n",
        "    for key, value in dic_contagem.items():\n",
        "      emp.setdefault(value, set()).add(key)\n",
        "\n",
        "    result = [key for key, values in emp.items() if len(values) > 1]\n",
        "    r = result\n",
        "    #print(r)\n",
        "    #buscando o ano correspodente aos valores repetidos\n",
        "    if len(r) > 0:\n",
        "      ano_empates = []\n",
        "      valor_empates = []\n",
        "      for key, value in dic_contagem.items():\n",
        "        if value in r:\n",
        "          ano_empates.append(key)\n",
        "          valor_empates.append(value)\n",
        "      empate = sorted(dict(zip(ano_empates, valor_empates)).items())\n",
        "      print('Exitem anos com a mesma quantidade de lancamentos(ano, qtdes)')\n",
        "      print(empate)\n",
        "    #buscando o ano com o(s) maior(es) lançamento\n",
        "    maior = dic_contagem[max(dic_contagem, key=dic_contagem.get)]\n",
        "    print(f'O ano com o(s) maior(es) lançamento(s):')\n",
        "    for key, value in dic_contagem.items():\n",
        "      if value == maior:\n",
        "        print(f'{key}, com {value} observações')\n",
        "\n",
        "if __name__ == \"__main__\":\n",
        "    import doctest\n",
        "    doctest.testmod(verbose = True)"
      ]
    },
    {
      "cell_type": "code",
      "execution_count": 32,
      "id": "ce8acf53-3160-4169-bf61-eb75ee4811ee",
      "metadata": {
        "tags": [],
        "id": "ce8acf53-3160-4169-bf61-eb75ee4811ee"
      },
      "outputs": [],
      "source": [
        "#carregando o Dataset que será utilizado para análise\n",
        "amostragem = Lercsv('amostragem.csv') # chamando a  classe para ler o arquivo \"amostragem.csv\"\n",
        "amostra = amostragem.abrirArq() # lendo o arquivo para preprar o dataset com as informações da análise"
      ]
    },
    {
      "cell_type": "code",
      "execution_count": 49,
      "id": "b0c97cca-b2da-47a3-89e5-598ec3de1a7f",
      "metadata": {
        "tags": [],
        "colab": {
          "base_uri": "https://localhost:8080/"
        },
        "id": "b0c97cca-b2da-47a3-89e5-598ec3de1a7f",
        "outputId": "10fbb97b-d588-4d18-dde1-bb7aec5354ca"
      },
      "outputs": [
        {
          "output_type": "stream",
          "name": "stdout",
          "text": [
            "gratuito: 20.0% pagos: 80.0%\n"
          ]
        }
      ],
      "source": [
        "# PERGUNTA 1:\n",
        "estatistica_venda = Estatistica_venda(amostra) # chamando a classe de  preparação de amostras para análise\n",
        "estatistica_venda.perfilVendas() # sepera os jogos pagos dos gratuitos e faz o cálculo da %"
      ]
    },
    {
      "cell_type": "code",
      "execution_count": 34,
      "id": "d7ea0997-e529-4885-9997-7dff82663343",
      "metadata": {
        "tags": [],
        "colab": {
          "base_uri": "https://localhost:8080/"
        },
        "id": "d7ea0997-e529-4885-9997-7dff82663343",
        "outputId": "25fa0f13-e831-4043-c0f6-13aca165b967"
      },
      "outputs": [
        {
          "output_type": "stream",
          "name": "stdout",
          "text": [
            "Exitem anos com a mesma quantidade de lancamentos(ano, qtdes)\n",
            "[(2012, 1), (2013, 1), (2015, 1), (2016, 1), (2017, 1), (2018, 1), (2019, 1), (2020, 1), (2021, 5), (2022, 5)]\n",
            "O ano com o(s) maior(es) lançamento(s):\n",
            "2022, com 5 observações\n",
            "2021, com 5 observações\n"
          ]
        }
      ],
      "source": [
        "# PERGUNTA 2:\n",
        "Estatistica_lancamentoA = Estatistica_lancamento(amostra) # chamndo a classe para o cálculo estatístico\n",
        "Estatistica_lancamentoA.qtdLan() # prepara a base para análise e faz o cálculo estatístico"
      ]
    },
    {
      "cell_type": "code",
      "execution_count": 35,
      "id": "7bfc8a45-1c0d-42f3-be08-80c79ad88d04",
      "metadata": {
        "tags": [],
        "colab": {
          "base_uri": "https://localhost:8080/"
        },
        "id": "7bfc8a45-1c0d-42f3-be08-80c79ad88d04",
        "outputId": "fece1db9-725c-463a-f129-9dcd24d117ff"
      },
      "outputs": [
        {
          "output_type": "stream",
          "name": "stdout",
          "text": [
            "\n",
            "==> O maior valor de venda: $24.99 <==\n",
            "\n",
            "==> Títulos do(s) GAME(S) com maior valor/venda: <==\n",
            "\n",
            "Título: ['TrackDayR'] | Ano-Lançamento: ['Mar 17, 2021']\n"
          ]
        }
      ],
      "source": [
        "# PERGUNTA 3:\n",
        "# Utilizando o módulo \"maior_valor\" para respodnder a pergunta 3 formulada\n",
        "\n",
        "import maior_valor as mv # importando o módulo para achar o game com o valor da  amostra, seu nome e ano de lançamento\n",
        "mv.game_maiorValor(amostra) # trazendo o resultado"
      ]
    }
  ],
  "metadata": {
    "kernelspec": {
      "display_name": "Python 3 (ipykernel)",
      "language": "python",
      "name": "python3"
    },
    "language_info": {
      "codemirror_mode": {
        "name": "ipython",
        "version": 3
      },
      "file_extension": ".py",
      "mimetype": "text/x-python",
      "name": "python",
      "nbconvert_exporter": "python",
      "pygments_lexer": "ipython3",
      "version": "3.11.4"
    },
    "colab": {
      "provenance": [],
      "include_colab_link": true
    }
  },
  "nbformat": 4,
  "nbformat_minor": 5
}